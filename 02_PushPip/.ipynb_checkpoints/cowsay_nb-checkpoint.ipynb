{
 "cells": [
  {
   "cell_type": "code",
   "execution_count": 1,
   "id": "cd08936d-6641-46fb-a5d3-7567204e83bd",
   "metadata": {
    "tags": []
   },
   "outputs": [
    {
     "name": "stdout",
     "output_type": "stream",
     "text": [
      "Collecting python-cowsay\n",
      "  Downloading python_cowsay-1.1.1-py3-none-any.whl.metadata (6.0 kB)\n",
      "Downloading python_cowsay-1.1.1-py3-none-any.whl (27 kB)\n",
      "Installing collected packages: python-cowsay\n",
      "Successfully installed python-cowsay-1.1.1\n",
      "Note: you may need to restart the kernel to use updated packages.\n"
     ]
    },
    {
     "name": "stderr",
     "output_type": "stream",
     "text": [
      "WARNING: Ignoring invalid distribution -aleido (c:\\users\\user\\appdata\\local\\programs\\python\\python310\\lib\\site-packages)\n",
      "WARNING: Ignoring invalid distribution -aleido (c:\\users\\user\\appdata\\local\\programs\\python\\python310\\lib\\site-packages)\n"
     ]
    }
   ],
   "source": [
    "pip install python-cowsay"
   ]
  },
  {
   "cell_type": "code",
   "execution_count": 2,
   "id": "ec283572-6be6-440b-8677-f8416c229900",
   "metadata": {
    "tags": []
   },
   "outputs": [
    {
     "name": "stdout",
     "output_type": "stream",
     "text": [
      "Collecting argparse\n",
      "  Downloading argparse-1.4.0-py2.py3-none-any.whl (23 kB)\n",
      "Installing collected packages: argparse\n",
      "Successfully installed argparse-1.4.0\n",
      "Note: you may need to restart the kernel to use updated packages.\n"
     ]
    },
    {
     "name": "stderr",
     "output_type": "stream",
     "text": [
      "WARNING: Ignoring invalid distribution -aleido (c:\\users\\user\\appdata\\local\\programs\\python\\python310\\lib\\site-packages)\n",
      "WARNING: Ignoring invalid distribution -aleido (c:\\users\\user\\appdata\\local\\programs\\python\\python310\\lib\\site-packages)\n"
     ]
    }
   ],
   "source": [
    "pip install argparse"
   ]
  },
  {
   "cell_type": "code",
   "execution_count": 1,
   "id": "23c664bd-d840-404b-951a-cd8d1a143764",
   "metadata": {
    "tags": []
   },
   "outputs": [],
   "source": [
    "import argparse\n",
    "import cowsay"
   ]
  },
  {
   "cell_type": "markdown",
   "id": "0728e963-ca0c-4c13-95ae-7950fb248c55",
   "metadata": {},
   "source": [
    "***Synopsis***\n",
    "\n",
    "\n",
    "cowsay [-e eye_string] [-f cowfile] [-h] [-l] [-n] [-T tongue_string] [-W column] [-bdgpstwy]\n",
    "\n",
    "\n",
    "There are several provided modes which change the appearance of the cow depending on its particular emotional/physical state. \n",
    "\n",
    "1) The -b option initiates Borg mode; \n",
    "2) -d causes the cow to appear dead; \n",
    "3) -g invokes greedy mode; \n",
    "4) -p causes a state of paranoia to come over the cow; \n",
    "5) -s makes the cow appear thoroughly stoned; \n",
    "6) -t yields a tired cow; \n",
    "7) -w is somewhat the opposite of -t and initiates wired mode; \n",
    "8) -y brings on the cow's youthful appearance."
   ]
  },
  {
   "cell_type": "code",
   "execution_count": 6,
   "id": "8ed48a55-e635-49f6-9578-265a2aa642a0",
   "metadata": {
    "tags": []
   },
   "outputs": [],
   "source": [
    "def parse_arguments():\n",
    "    parser = argparse.ArgumentParser(description='Python implementation of cowsay')\n",
    "    parser.add_argument('message', nargs='?', default='Hello, World!', help='The message to be displayed by the cow')\n",
    "    \n",
    "    # cow type\n",
    "    parser.add_argument('-b', '--borg', action='store_true', help='Use the Borg cow')\n",
    "    parser.add_argument('-d', '--dead', action='store_true', help='Use the Dead cow')\n",
    "    parser.add_argument('-g', '--greedy', action='store_true', help='Use the Greedy cow')\n",
    "    parser.add_argument('-p', '--paranoid', action='store_true', help='Use the Paranoid cow')\n",
    "    parser.add_argument('-s', '--stoned', action='store_true', help='Use the Stoned cow')\n",
    "    parser.add_argument('-t', '--tired', action='store_true', help='Use the Tired cow')\n",
    "    parser.add_argument('-w', '--wired', action='store_true', help='Use the Wired cow')\n",
    "    parser.add_argument('-y', '--youthful', action='store_true', help='Use the Youthful cow')\n",
    "    \n",
    "    # eye, cow_file, list\n",
    "    parser.add_argument('-e', '--eye', help='Specify the cow\\'s eye')\n",
    "    parser.add_argument('-f', '--file', help='Specify a cowfile')\n",
    "    parser.add_argument('-l', '--list', action='store_true', help='Call cowsay.list_cows()')\n",
    "    \n",
    "    # tongue and wrap\n",
    "    parser.add_argument('-T', '--tongue', help='Specify the cow\\'s tongue')\n",
    "    parser.add_argument('-W', '--wrap', type=int, help='Specify maximum column width for output')\n",
    "    \n",
    "    # no-wrap\n",
    "    parser.add_argument('-n', '--no-wrap', action='store_true', help='Do not use word-wrapping')\n",
    "    \n",
    "    return parser.parse_args()\n",
    "\n",
    "def main():\n",
    "    args = parse_arguments()\n",
    "\n",
    "    if args.list:\n",
    "        cowsay.list_cows()\n",
    "    else:\n",
    "        cow = 'default'\n",
    "        if args.borg:\n",
    "            cow = 'borg'\n",
    "        elif args.dead:\n",
    "            cow = 'dead'\n",
    "        elif args.greedy:\n",
    "            cow = 'greedy'\n",
    "        elif args.paranoid:\n",
    "            cow = 'paranoid'\n",
    "        elif args.stoned:\n",
    "            cow = 'stoned'\n",
    "        elif args.tired:\n",
    "            cow = 'tired'\n",
    "        elif args.wired:\n",
    "            cow = 'wired'\n",
    "        elif args.youthful:\n",
    "            cow = 'youthful'\n",
    "\n",
    "        eye = args.eye if args.eye else 'oo'\n",
    "        file = args.file if args.file else None\n",
    "        \n",
    "        tongue = args.tongue if args.tongue else '  '\n",
    "        wrap = args.wrap if args.wrap else 40\n",
    "        \n",
    "        no_wrap = False if args.no_wrap else True\n",
    "        \n",
    "        cowsay.cowsay(message=args.message, cowfile=file, cow=cow, eyes=eye, wrap_text=no_wrap, tongue=tongue, width=wrap)\n",
    "\n",
    "if __name__ == '__main__':\n",
    "    main()\n"
   ]
  },
  {
   "cell_type": "code",
   "execution_count": null,
   "id": "315b760d-1153-4b39-8d82-6761a91227ab",
   "metadata": {},
   "outputs": [],
   "source": [
    "def cowsay(message: str,\n",
    "           cow: str = 'default',\n",
    "           preset: str = None,\n",
    "           eyes: str = Option.eyes,\n",
    "           tongue: str = Option.tongue,\n",
    "           width: int = 40,\n",
    "           wrap_text: bool = True,\n",
    "           cowfile: str = None) -> str:\n",
    "    \"\"\"\n",
    "    Similar to the cowsay command. Parameters are listed with their\n",
    "    corresponding options in the cowsay command. Returns the resulting cowsay\n",
    "    string\n",
    "\n",
    "    :param message: The message to be displayed\n",
    "    :param cow: -f – the available cows can be found by calling list_cows\n",
    "    :param preset: -[bdgpstwy]\n",
    "    :param eyes: -e or eye_string\n",
    "    :param tongue: -T or tongue_string\n",
    "    :param width: -W\n",
    "    :param wrap_text: -n\n",
    "    :param cowfile: a string containing the cow file text (chars are not\n",
    "    decoded as they are in read_dot_cow) if this parameter is provided the\n",
    "    cow parameter is ignored\n",
    "    \"\"\""
   ]
  }
 ],
 "metadata": {
  "kernelspec": {
   "display_name": "Python 3 (ipykernel)",
   "language": "python",
   "name": "python3"
  },
  "language_info": {
   "codemirror_mode": {
    "name": "ipython",
    "version": 3
   },
   "file_extension": ".py",
   "mimetype": "text/x-python",
   "name": "python",
   "nbconvert_exporter": "python",
   "pygments_lexer": "ipython3",
   "version": "3.10.6"
  }
 },
 "nbformat": 4,
 "nbformat_minor": 5
}
