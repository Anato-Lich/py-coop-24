{
 "cells": [
  {
   "cell_type": "markdown",
   "id": "505e6cd8-e776-42a0-b446-a00b79306220",
   "metadata": {},
   "source": [
    "bullscows(guess: str, secret: str) -> (int, int) — возвращает количество «быков» и «коров» из guess в secret\n",
    "\n",
    "«быки» — это одинаковые буквы, которые в словах стоят в одинаковых местах, «коровы» — сколько букв догадки использовано в загадке\n",
    "\n",
    "Например, bullscows(\"ропот\", \"полип\") -> (1, 2) («о» — бык, «о» и «п» — коровы)\n",
    "\n",
    "gameplay(ask: callable, inform: callable, words: list[str]) -> int — функция-приложение, обеспечивающая геймплей:\n",
    "\n",
    "Задумывает случайное слово из списка слов words: list[str]\n",
    "\n",
    "Спрашивает у пользователя слово с помощью функции ask(\"Введите слово: \", words)\n",
    "\n",
    "Выводит пользователю результат с помощью функции inform(\"Быки: {}, Коровы: {}\", b, c)\n",
    "\n",
    "Если слово не отгадано, переходит к п. 1\n",
    "Если слово отгадано, возвращает количество попыток — вызовов ask()\n",
    "\n",
    "Свойства функции ask():\n",
    "\n",
    "ask(prompt: str, valid: list[str] = None) -> str\n",
    "\n",
    "Если необязательный параметр valid не пуст, допустим только ввод слова из valid, иначе спрашивает повторно\n",
    "\n",
    "Функция inform():\n",
    "\n",
    "inform(format_string: str, bulls: int, cows: int) -> None\n",
    "\n"
   ]
  },
  {
   "cell_type": "code",
   "execution_count": 14,
   "id": "c6c14005-a174-4031-b05c-b8368d6c7ef3",
   "metadata": {
    "tags": []
   },
   "outputs": [],
   "source": [
    "import random\n"
   ]
  },
  {
   "cell_type": "code",
   "execution_count": 20,
   "id": "b5f2b9d8-74e2-441c-8906-a10e7775a9fa",
   "metadata": {
    "tags": []
   },
   "outputs": [],
   "source": [
    "def bullscows(guess: str, secret: str) -> (int, int):\n",
    "    \"\"\"\n",
    "    возвращает количество «быков» и «коров» из guess в secret\n",
    "    bullscows(\"ропот\", \"полип\") -> (1, 2) («о» — бык, «о» и «п» — коровы)\n",
    "    \"\"\"\n",
    "    c = 0\n",
    "    b = 0\n",
    "    \n",
    "    g = list(guess)\n",
    "    g_set = set(g)\n",
    "    \n",
    "    s = list(secret)\n",
    "    s_set = set(s)\n",
    "    \n",
    "    c = len(g_set & s_set)\n",
    "    \n",
    "    for i in range(len(g)):\n",
    "        if g[i] == s[i]:\n",
    "            b += 1\n",
    "            \n",
    "    return (b, c)"
   ]
  },
  {
   "cell_type": "code",
   "execution_count": 21,
   "id": "2465d401-456d-419f-9529-95298ae33684",
   "metadata": {
    "tags": []
   },
   "outputs": [
    {
     "data": {
      "text/plain": [
       "(1, 2)"
      ]
     },
     "execution_count": 21,
     "metadata": {},
     "output_type": "execute_result"
    }
   ],
   "source": [
    "bullscows(\"ропот\", \"полип\")"
   ]
  },
  {
   "cell_type": "code",
   "execution_count": 5,
   "id": "475a481c-dfe3-4153-ada6-fb0856773f0a",
   "metadata": {
    "tags": []
   },
   "outputs": [],
   "source": [
    "def gameplay(ask: callable, inform: callable, words: list[str]) -> int:\n",
    "    \"\"\"\n",
    "    функция-приложение, обеспечивающая геймплей:\n",
    "        Задумывает случайное слово из списка слов words: list[str]\n",
    "        Спрашивает у пользователя слово с помощью функции ask(\"Введите слово: \", words)\n",
    "        Выводит пользователю результат с помощью функции inform(\"Быки: {}, Коровы: {}\", b, c)\n",
    "        Если слово не отгадано, переходит к п.1 \n",
    "        Если слово отгадано, возвращает количество попыток — вызовов ask()\n",
    "    \"\"\"\n",
    "    ask_cnt = 0\n",
    "    b = 0\n",
    "    secret = random.choice(words)\n",
    "    \n",
    "    while b != len(secret):\n",
    "        guess = ask(\"Введите слово: \", words)\n",
    "        ask_cnt += 1\n",
    "\n",
    "        (b, c) = bullscows(guess, secret)\n",
    "        inform(\"Быки: {}, Коровы: {}\", b, c)\n",
    "        if b == len(secret):\n",
    "            print(ask_cnt)\n",
    "            break\n",
    "    \n",
    "    return ask_cnt"
   ]
  },
  {
   "cell_type": "code",
   "execution_count": null,
   "id": "0faa3be9-b6e9-4c65-963e-c6ce8f675c1c",
   "metadata": {
    "tags": []
   },
   "outputs": [],
   "source": []
  },
  {
   "cell_type": "code",
   "execution_count": 11,
   "id": "84d734dc-7535-4ca6-836f-cede50d91f6a",
   "metadata": {
    "tags": []
   },
   "outputs": [],
   "source": [
    "def ask(prompt: str, valid: list[str] = None) -> str:\n",
    "    \"\"\"\n",
    "    Если необязательный параметр valid не пуст, \n",
    "    допустим только ввод слова из valid, иначе спрашивает повторно\n",
    "    \n",
    "    ask(\"Введите слово: \", words)\n",
    "    \"\"\"\n",
    "    if valid:\n",
    "        while True:\n",
    "            tmp = input(prompt)\n",
    "            if tmp in valid:\n",
    "                break\n",
    "    else:\n",
    "        tmp = input(prompt)\n",
    "    \n",
    "    return tmp"
   ]
  },
  {
   "cell_type": "code",
   "execution_count": 13,
   "id": "5a5530e1-e221-4ab3-9e21-f956c1aa94f7",
   "metadata": {
    "tags": []
   },
   "outputs": [
    {
     "name": "stdin",
     "output_type": "stream",
     "text": [
      "test 1\n",
      "test 2\n",
      "test 3\n",
      "test n\n",
      "test c\n"
     ]
    },
    {
     "data": {
      "text/plain": [
       "'c'"
      ]
     },
     "execution_count": 13,
     "metadata": {},
     "output_type": "execute_result"
    }
   ],
   "source": [
    "ask('test', ['a', 'b', 'c'])"
   ]
  },
  {
   "cell_type": "code",
   "execution_count": 8,
   "id": "07ae0b7f-85f0-414f-9120-a6da2210d482",
   "metadata": {
    "tags": []
   },
   "outputs": [],
   "source": [
    "def inform(format_string: str, bulls: int, cows: int) -> None:\n",
    "    \"\"\"\n",
    "    inform(\"Быки: {}, Коровы: {}\", b, c)\n",
    "    \"\"\"\n",
    "    print(format_string.format(bulls, cows))"
   ]
  },
  {
   "cell_type": "code",
   "execution_count": 9,
   "id": "1047473c-b9fc-493b-91f9-8d2e64a2b948",
   "metadata": {
    "tags": []
   },
   "outputs": [
    {
     "name": "stdout",
     "output_type": "stream",
     "text": [
      "Быки: 1, Коровы: 2\n"
     ]
    }
   ],
   "source": [
    "inform(\"Быки: {}, Коровы: {}\", 1, 2)"
   ]
  },
  {
   "cell_type": "code",
   "execution_count": 10,
   "id": "4722aff8-4bcd-4d55-8034-aa57be576cdb",
   "metadata": {
    "tags": []
   },
   "outputs": [
    {
     "name": "stdin",
     "output_type": "stream",
     "text": [
      "sample 1\n"
     ]
    },
    {
     "data": {
      "text/plain": [
       "'1'"
      ]
     },
     "execution_count": 10,
     "metadata": {},
     "output_type": "execute_result"
    }
   ],
   "source": []
  },
  {
   "cell_type": "code",
   "execution_count": null,
   "id": "ef73b020-eafd-41df-a8c5-4617a0bb3f88",
   "metadata": {},
   "outputs": [],
   "source": []
  }
 ],
 "metadata": {
  "kernelspec": {
   "display_name": "Python 3 (ipykernel)",
   "language": "python",
   "name": "python3"
  },
  "language_info": {
   "codemirror_mode": {
    "name": "ipython",
    "version": 3
   },
   "file_extension": ".py",
   "mimetype": "text/x-python",
   "name": "python",
   "nbconvert_exporter": "python",
   "pygments_lexer": "ipython3",
   "version": "3.10.6"
  }
 },
 "nbformat": 4,
 "nbformat_minor": 5
}
